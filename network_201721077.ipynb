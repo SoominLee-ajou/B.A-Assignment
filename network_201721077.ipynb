{
    "cells": [
        {
            "cell_type": "markdown",
            "metadata": {},
            "source": "R<ec>��<ec>�� 'tidygraph', 'ggraph', 'igraph' <ed>��<ed>��지�<bc> <ec>��<ec>��<ed>��<ec>�� 17개의 <ed>���<ad> <ec>���<b0> <ec>��<eb>�� 출연�<84> 간의 <eb>��<ed>��<ec>��<ed>���<bc> 분석<ed>��보았<eb>��. \n"
        },
        {
            "cell_type": "code",
            "execution_count": null,
            "metadata": {},
            "outputs": [],
            "source": [
                "# install.packages(c('tidygraph', 'ggraph'))\n",
                "# install.packages(\"igraph\")\n",
                "library('igraph')\n",
                "library('tidygraph')\n",
                "library('ggraph')\n"
            ]
        },
        {
            "cell_type": "markdown",
            "metadata": {},
            "source": [
                "\n",
                "program.csv<ec>��<eb>�� 17개의 '<eb>��<eb>���<a8>', '<ec>��<eb>��<ed>��<eb>��'�<bc> 같�<9d>� 17개의 <ed>���<ad> <ec>���<b0> <ec>��<eb>��<ed>��로그<eb>���<bc>, �<81> <ed>��로그<eb>��<ec>�� 출연<ed>�� 출연진에 <eb><8c>�<ed>�� <eb>��<ec>��<ed>��<ec>��<eb>��. \n"
            ]
        },
        {
            "cell_type": "code",
            "execution_count": null,
            "metadata": {},
            "outputs": [],
            "source": [
                "pro <- read.csv('program.csv')\n",
                "\n"
            ]
        },
        {
            "cell_type": "markdown",
            "metadata": {},
            "source": [
                "\n",
                "program.csv<ec>��<eb>�� 17개의 '<eb>��<eb>���<a8>', '<ec>��<eb>��<ed>��<eb>��'�<bc> 같�<9d>� 17개의 <ed>���<ad> <ec>���<b0> <ec>��<eb>��<ed>��로그<eb>���<bc>, �<81> <ed>��로그<eb>��<ec>�� 출연<ed>�� 출연진에 <eb><8c>�<ed>�� <eb>��<ec>��<ed>��<ec>��<eb>��. \n"
            ]
        },
        {
            "cell_type": "code",
            "execution_count": null,
            "metadata": {},
            "outputs": [],
            "source": [
                "pro <- read.csv('program.csv')\n",
                "\n"
            ]
        },
        {
            "cell_type": "markdown",
            "metadata": {},
            "source": [
                "\n",
                "<eb>��<ed>��<ec>��<ed>�� 분석<ec>�� 진행<ed>���<b0> <ec>��<ed>��, <eb>��<ec>��<ed>�� <ed>��<eb>��<ec>��<ec>�� 그래<ed>�� <ed>��<ec>��<ec>���<9c> 바꿨�<a0>, <ed>��<eb>�� <eb>��<ed>��<ec>��<ed>��<ec>��<eb>�� 방향<ec>��<ec>�� <ec>��<ec>�� directed =F<eb>��<eb>�� <ec>��<ec>��<ec>�� 추�<b0>�<ed>��<eb>��.\n"
            ]
        },
        {
            "cell_type": "code",
            "execution_count": null,
            "metadata": {},
            "outputs": [],
            "source": [
                "pr <- as_tbl_graph((pro),directed =F)\n",
                "\n"
            ]
        },
        {
            "cell_type": "markdown",
            "metadata": {},
            "source": [
                "\n",
                "pr<ec>��<eb>��<eb>�� <eb>��<ed>��<ec>��<ed>�� <ec>��<ec>��<eb>�� 82개의 nodes, 101개의 edges가 <ec>��<eb>��. \n"
            ]
        },
        {
            "cell_type": "code",
            "execution_count": null,
            "metadata": {},
            "outputs": [],
            "source": [
                "pr \n",
                "\n"
            ]
        },
        {
            "cell_type": "markdown",
            "metadata": {},
            "source": [
                "�<81> node<ec>�� <ec>��결된 edge<ec>���<bc> degree <ed>��<ec>���<bc> <ed>��<ed>�� <ed>��<ec>��<ed>��<ec><98>�<eb>��.\n",
                "<ed>��로그<eb>�� <ec>��름의 node�<bc> <ec>��<ec>��<ed>���<a0>, 출연�<84> �<91> '강호<eb>��', '<ec>��<ec>��<ec>��'<ec>�� 5개로 가<ec>�� 많�<9d>� edge<ec>���<bc> 가지�<a0> <ec>���<a0>, �<b8> <eb>��<ec>��<ec>��로는 '<ec>��<ec>���<bc>'�<bc> '<ec>��<ec>��<ed>��'<ec>�� 4개로 많았<eb>��.\n"
            ]
        },
        {
            "cell_type": "code",
            "execution_count": null,
            "metadata": {},
            "outputs": [],
            "source": [
                "degree(pr) \n",
                "\n"
            ]
        },
        {
            "cell_type": "markdown",
            "metadata": {},
            "source": [
                "##<eb>��<ed>��<ec>��<ed>�� 그리�<b0> 1\n",
                "degree<ed>��<ec>���<bc> <ec>��<ec>��<ed>��<ec>���<81> node<ec>�� <ec>��결된 edge<ec>��만큼<ec>�� <ec>��<ec>�� <ed>��기로 <ec>��<ec>��<ed>��<ec>�� <ec>��각화<ed>��<ec><98>�<eb>��.\n"
            ]
        },
        {
            "cell_type": "code",
            "execution_count": null,
            "metadata": {},
            "outputs": [],
            "source": [
                "plot(pr, edge.arrow.size=0.5, vertex.size =degree(pr)*2, main=\"<ed>���<ad><ec>���<b0> <ec>��<eb>�� 출연�<84> �<84> <eb>��<ed>��<ec>��<ed>��\")\n",
                "\n"
            ]
        },
        {
            "cell_type": "markdown",
            "metadata": {},
            "source": [
                "##<eb>��<ed>��<ec>��<ed>�� 그리�<b0> 2\n",
                "<ec>��번에<eb>�� <ec>��<ec>�� <ec>��<eb>�� <ed>��<ed>���<9c> <ec>��각화 <ed>��보았<eb>��.  \n"
            ]
        },
        {
            "cell_type": "code",
            "execution_count": null,
            "metadata": {},
            "outputs": [],
            "source": [
                "pro %>%\n",
                "  as_tbl_graph() %>%\n",
                "  ggraph(layout='kk') + \n",
                "  geom_node_text(aes(label=name)) +\n",
                "  geom_edge_link(aes(start_cap = label_rect(node1.name), end_cap = label_rect(node2.name)))\n"
            ]
        },
        {
            "cell_type": "markdown",
            "metadata": {},
            "source": [
                "<eb>��<ed>��<ec>��<ed>���<bc> <ec>��각화 <ed>��보니, <ec>���<bc> <ed>��로그<eb>��<ec>�� <ed>���<98> 출연<ed>��<eb>�� <ec>���<bc> node가 <ec>���<9c> 가까이<ec>�� <ec>��<ec>�� <ec>��<eb>��<ed>�� 그룹<ec>�� <ed>��<ec>��<eb>�� 것처<eb>�� 보인<eb>��. <ed>��<ed>�� <ec>��<ec>��<ec>���<bc> 강호<eb>��<ec>�� 중심<ec>���<9c> �<b8> 그룹<ec>�� <ed>��<ec>��<eb>��<ec>�� <ec>���<a0>, 김종국�<bc> <ec>��종신, <ec>��<ec>��<ed>��<ec><9d>� <ec>��<ec>��<ec>���<bc> 가까이<ec>��<ec>�� <eb>���<b8> 출연진과<ec>�� 매개<ec>��<ed>��<ec>��, 강호<eb>�� 쪽에<eb>�� <ec>��<ec>��<ed>���<bc> <ec>��<ec>���<bc>, <ed>��<ec>��가 매개<ec>��<ed>��<ec>�� <ed>���<a0> <ec>��<eb>�� �<83> 같다. \n",
                "\n"
            ]
        }
    ],
    "metadata": {
        "anaconda-cloud": "",
        "kernelspec": {
            "display_name": "R",
            "langauge": "R",
            "name": "ir"
        },
        "language_info": {
            "codemirror_mode": "r",
            "file_extension": ".r",
            "mimetype": "text/x-r-source",
            "name": "R",
            "pygments_lexer": "r",
            "version": "3.4.1"
        }
    },
    "nbformat": 4,
    "nbformat_minor": 1
}
